{
 "cells": [
  {
   "cell_type": "code",
   "execution_count": 43,
   "id": "912bff9c",
   "metadata": {},
   "outputs": [],
   "source": [
    "from collections import Counter\n",
    "from functools import reduce\n",
    "import requests\n",
    "import os\n",
    "from urllib.parse import urljoin\n",
    "import pandas as pd\n",
    "from tabulate import tabulate"
   ]
  },
  {
   "cell_type": "code",
   "execution_count": 44,
   "id": "25f249f6",
   "metadata": {},
   "outputs": [],
   "source": [
    "def api_get(path):\n",
    "    api_url = urljoin(\"https://pretalx.com/api/v2\", path)\n",
    "    resp = requests.get(api_url, headers={\"Authorization\": f\"Token {os.getenv('TOKEN')}\"})\n",
    "    return resp.json()"
   ]
  },
  {
   "cell_type": "code",
   "execution_count": 49,
   "id": "d662ac65",
   "metadata": {},
   "outputs": [],
   "source": [
    "def get_submissions():\n",
    "    \"\"\"Get all submissions, irrespective of status\"\"\"\n",
    "    resp = api_get(\"events/djangocon-europe-2023/submissions/?limit=200\")\n",
    "    return {\n",
    "        result[\"code\"]: result for result in resp[\"results\"]\n",
    "}"
   ]
  },
  {
   "cell_type": "code",
   "execution_count": 50,
   "id": "effacffc",
   "metadata": {},
   "outputs": [],
   "source": [
    "all_submissions = get_submissions()"
   ]
  },
  {
   "cell_type": "code",
   "execution_count": 52,
   "id": "132264d5",
   "metadata": {},
   "outputs": [],
   "source": [
    "def get_reviews():\n",
    "    \"\"\"Get all individual reviews\"\"\"\n",
    "    page = 1\n",
    "    reviews = []\n",
    "    url = f\"events/djangocon-europe-2023/reviews?page={page}\"\n",
    "    while True:\n",
    "        resp = api_get(url)\n",
    "        reviews.extend(resp[\"results\"])\n",
    "        if resp[\"next\"]:\n",
    "            url = resp[\"next\"]\n",
    "        else:\n",
    "            break\n",
    "    return reviews"
   ]
  },
  {
   "cell_type": "code",
   "execution_count": null,
   "id": "37cb8138",
   "metadata": {},
   "outputs": [],
   "source": [
    "reviews = get_reviews()"
   ]
  },
  {
   "cell_type": "code",
   "execution_count": null,
   "id": "f38def11",
   "metadata": {},
   "outputs": [],
   "source": [
    "def get_reviews_by_submission(all_submissions, reviews):\n",
    "    \"\"\"\n",
    "    Collate reviews by submission, and add in the submission URL, speaker info and title.\n",
    "    Return a dict of review dicts, separated by submission type.\n",
    "    \"\"\"\n",
    "    all_reviewers = {review[\"user\"] for review in reviews}\n",
    "    reviewer_key = {reviewer: f\"reviewer_{i}\" for i, reviewer in enumerate(all_reviewers, start=1)}\n",
    "    reviews_by_submission = {}\n",
    "    for review in reviews:\n",
    "        code = review[\"submission\"]\n",
    "        reviewer_code = reviewer_key[review[\"user\"]]\n",
    "        reviews_by_submission.setdefault(\n",
    "            code, {\"url\": f\"https://pretalx.com/orga/event/djangocon-europe-2023/submissions/{code}/reviews\"}\n",
    "        )[reviewer_code] = review[\"score\"]\n",
    "    \n",
    "    talks = {}\n",
    "    workshops = {}\n",
    "    for code in reviews_by_submission:\n",
    "        submission = all_submissions[code]\n",
    "        submission_type = submission[\"submission_type\"] if isinstance(submission[\"submission_type\"], str) else submission[\"submission_type\"][\"en\"]\n",
    "        submission_info = {\n",
    "            \"speakers\":  \", \".join([speaker[\"name\"] for speaker in submission[\"speakers\"]]),\n",
    "            \"submission_type\": submission_type,\n",
    "            \"title\": submission[\"title\"],\n",
    "            \"duration\": submission[\"duration\"],\n",
    "        }\n",
    "        review_data = {**reviews_by_submission[code], **submission_info}\n",
    "        if submission_type == \"Talk\":\n",
    "            talks[code] = review_data\n",
    "        else:\n",
    "            assert submission_type == \"Workshop\"\n",
    "            workshops[code] = review_data\n",
    "\n",
    "    assert len(talks) + len(workshops) == len(reviews_by_submission)\n",
    "    return {\"talks\": talks, \"workshops\": workshops}\n"
   ]
  },
  {
   "cell_type": "code",
   "execution_count": null,
   "id": "dc8109ca",
   "metadata": {},
   "outputs": [],
   "source": [
    "def summary_dataframe(input_dict):\n",
    "    \"\"\"\n",
    "    Convert a review dict to a dataframe and calculate:\n",
    "    - mean\n",
    "    - median\n",
    "    - min\n",
    "    - max\n",
    "    - range\n",
    "    - total number of reviewers\n",
    "    - number of reviewers rating the min score\n",
    "    - number of reviewers rating the max score\n",
    "    - a preliminary decision based on median scores for submissions with consensus in their reviews\n",
    "    \"\"\"\n",
    "    df = pd.DataFrame.from_dict(input_dict, orient='index')\n",
    "    df = df.reindex(sorted(df.columns), axis=1)\n",
    "    reviewer_cols = [col for col in df.columns if col.startswith(\"reviewer_\")]\n",
    "    for col in reviewer_cols:\n",
    "        df[col] = pd.to_numeric(df[col])\n",
    "    df = df.assign(mean=df.loc[:, reviewer_cols].mean(axis=1, numeric_only=True))\n",
    "    df = df.assign(median=df.loc[:, reviewer_cols].median(axis=1, numeric_only=True))\n",
    "    df = df.assign(min=df.loc[:, reviewer_cols].min(axis=1, numeric_only=True))\n",
    "    df = df.assign(max=df.loc[:, reviewer_cols].max(axis=1, numeric_only=True))\n",
    "    df = df.assign(range=df.loc[:, reviewer_cols].max(axis=1, numeric_only=True) - df.loc[:, reviewer_cols].min(axis=1, numeric_only=True))\n",
    "    df = df.assign(reviewers=df.loc[:, reviewer_cols].count(axis=1, numeric_only=True))\n",
    "    \n",
    "    def min_count(row):\n",
    "        return sum(row[reviewer_cols] == row[\"min\"])\n",
    "    \n",
    "    def max_count(row):\n",
    "        return sum(row[reviewer_cols] == row[\"max\"])\n",
    "    \n",
    "    df[\"min_counts\"] = df.apply(min_count, axis=1)\n",
    "    df[\"max_counts\"] = df.apply(max_count, axis=1)\n",
    "    \n",
    "    def autodecide(row):\n",
    "        if row[\"range\"] <= 1:\n",
    "            if row[\"median\"] < 3:\n",
    "                return \"reject\"\n",
    "            if row[\"median\"] >= 4:\n",
    "                return \"accept\"\n",
    "        return \"\"\n",
    "    \n",
    "    df[\"decision_prelim\"] = df.apply(autodecide, axis=1)\n",
    "    return df\n"
   ]
  },
  {
   "cell_type": "code",
   "execution_count": null,
   "id": "67009d47",
   "metadata": {},
   "outputs": [],
   "source": [
    "def decision_df(df, decision):\n",
    "    return df[df[\"decision_prelim\"] == decision]"
   ]
  },
  {
   "cell_type": "code",
   "execution_count": null,
   "id": "e8e38e38",
   "metadata": {},
   "outputs": [],
   "source": [
    "def disagreed_df(df):\n",
    "    return df[df['range'] >= 3]"
   ]
  },
  {
   "cell_type": "code",
   "execution_count": null,
   "id": "9245192f",
   "metadata": {},
   "outputs": [],
   "source": [
    "def summarise(df):\n",
    "    print(f\"Total number of submissions: {len(df)}\\n\\n\")\n",
    "    \n",
    "    print(\"Submissions with consensus (all scores within one point)\")\n",
    "    print(\"==========================================================\")\n",
    "    agreed = df[df['range'] <= 1]\n",
    "    \n",
    "    print(f\"Total: {agreed['range'].count()}\\n\")\n",
    "    \n",
    "    counter = Counter(agreed['median'])\n",
    "    print(tabulate(sorted(counter.items()), headers=[\"Median score\", \"Count\"]))\n",
    "    \n",
    "    accepted = decision_df(df, \"accept\")\n",
    "    rejected = decision_df(df, \"reject\")\n",
    "    print(\"\\n\")\n",
    "    print(f\"Preliminarily accepted (median score >= 4): {len(accepted)}\\n\")\n",
    "    print(f\"Rejected (median score < 3): {len(rejected)}\\n\")\n",
    "\n",
    "    counter = Counter(accepted[\"speakers\"])\n",
    "    duplicate_speakers = {k: v for k, v in counter.items() if v > 1}\n",
    "    if duplicate_speakers:\n",
    "        print(\"Authors with more than one accepted submission:\\n\")\n",
    "        print(tabulate(duplicate_speakers.items(), headers=[\"Name\", \"#\"]))\n",
    "    else:\n",
    "        print(\"Authors with more than one accepted submission: None\")\n",
    "    \n",
    "    print(\"\\n\")\n",
    "    print(\"Submissions without consensus (scores range >= 3)\")\n",
    "    print(\"==========================================================\")\n",
    "    disagreed = disagreed_df(df)\n",
    "    print(f\"Total: {disagreed['range'].count()}\\n\")\n",
    "    \n",
    "    disagreed_scores = sorted(\n",
    "        zip(\n",
    "            disagreed[\"range\"],\n",
    "            disagreed[\"median\"], \n",
    "            disagreed[\"min\"], \n",
    "            disagreed[\"min_counts\"], \n",
    "            disagreed[\"max\"], \n",
    "            disagreed[\"max_counts\"],\n",
    "            disagreed[\"reviewers\"],\n",
    "        ),\n",
    "        reverse=True\n",
    "    )\n",
    "    \n",
    "    \n",
    "    print(\n",
    "        tabulate(\n",
    "            [(scores[0], scores[1], f\"{scores[2]} ({scores[3]})\", f\"{scores[4]} ({scores[5]})\", scores[6]) for scores in disagreed_scores], \n",
    "            headers=[\"Range\", \"Median\", \"Min (# reviewers)\", \"Max (# reviewers)\", \"# reviewers\"]\n",
    "        )\n",
    "    )\n",
    "    "
   ]
  },
  {
   "cell_type": "code",
   "execution_count": null,
   "id": "436ced18",
   "metadata": {},
   "outputs": [],
   "source": [
    "reviews_by_submissions = get_reviews_by_submission(all_submissions, reviews)"
   ]
  },
  {
   "cell_type": "code",
   "execution_count": null,
   "id": "695d559a",
   "metadata": {},
   "outputs": [],
   "source": [
    "talks_df = summary_dataframe(reviews_by_submissions[\"talks\"])"
   ]
  },
  {
   "cell_type": "code",
   "execution_count": null,
   "id": "79c8cbbe",
   "metadata": {},
   "outputs": [],
   "source": [
    "workshops_df = summary_dataframe(reviews_by_submissions[\"workshops\"])"
   ]
  },
  {
   "cell_type": "code",
   "execution_count": null,
   "id": "101c3161",
   "metadata": {},
   "outputs": [],
   "source": [
    "summarise(talks_df)\n"
   ]
  },
  {
   "cell_type": "code",
   "execution_count": null,
   "id": "38def2ca",
   "metadata": {},
   "outputs": [],
   "source": [
    "summarise(workshops_df)"
   ]
  },
  {
   "cell_type": "code",
   "execution_count": null,
   "id": "bf231262",
   "metadata": {},
   "outputs": [],
   "source": [
    "def export_df(df):\n",
    "    df = df.sort_values(\"median\", ascending=False)\n",
    "    reviewer_cols = [col for col in df.columns if col.startswith(\"reviewer_\")]\n",
    "    submission_type = df.iloc[0].submission_type.lower()\n",
    "    cols = [\"title\", \"speakers\", \"url\", \"median\", \"min\", \"max\", \"range\", \"decision_prelim\", *reviewer_cols]\n",
    "    if submission_type == \"workshop\":\n",
    "        cols.insert(2, \"duration\")\n",
    "    export_df = df[cols] \n",
    "    export_df.to_csv(f\"dce2023_{submission_type}s_reviews.csv\", index=False)\n",
    "    \n",
    "    disagreed_export_df = disagreed_df(export_df)\n",
    "    disagreed_export_df.to_csv(f\"dce2023_{submission_type}s_reviews_without_consensus.csv\", index=False)"
   ]
  },
  {
   "cell_type": "code",
   "execution_count": null,
   "id": "3adbc25a",
   "metadata": {},
   "outputs": [],
   "source": [
    "export_df(talks_df)"
   ]
  },
  {
   "cell_type": "code",
   "execution_count": null,
   "id": "64b781ca",
   "metadata": {},
   "outputs": [],
   "source": [
    "export_df(workshops_df)"
   ]
  },
  {
   "cell_type": "code",
   "execution_count": null,
   "id": "98045740",
   "metadata": {},
   "outputs": [],
   "source": []
  }
 ],
 "metadata": {
  "kernelspec": {
   "display_name": "Python 3 (ipykernel)",
   "language": "python",
   "name": "python3"
  },
  "language_info": {
   "codemirror_mode": {
    "name": "ipython",
    "version": 3
   },
   "file_extension": ".py",
   "mimetype": "text/x-python",
   "name": "python",
   "nbconvert_exporter": "python",
   "pygments_lexer": "ipython3",
   "version": "3.10.9"
  }
 },
 "nbformat": 4,
 "nbformat_minor": 5
}
